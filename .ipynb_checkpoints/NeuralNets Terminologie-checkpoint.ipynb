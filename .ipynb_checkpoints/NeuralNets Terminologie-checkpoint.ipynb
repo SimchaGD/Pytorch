{
 "cells": [
  {
   "cell_type": "markdown",
   "metadata": {},
   "source": [
    "# Data terminologie\n",
    "## Verduidelijking van termen die veel gebruikt worden met neural networks\n",
    "Vaak zijn er verschillen in terminologie binnen verschillende disciplines. Zo worden er binnen computer science en wiskunde verschillende termen gebruikt voor hetzelfde concept. Een voorbeeld is:\n",
    "\n",
    "|Computer Science|Wiskunde|index|\n",
    "|-------|----|--|\n",
    "|number| scalar|0|\n",
    "|array| vector|1|\n",
    "|2d-array| matrix|2|\n",
    "|nd-array| nd-tensor|n|"
   ]
  },
  {
   "cell_type": "markdown",
   "metadata": {},
   "source": [
    "Voortaan gaan we alleen maar gebruik maken van tensors. Aangezeien nd-tensor de overkoepelende term is, kan je een matrix ook zien als een 2d-tensor en een scalar als een 0d-tensor. Voor versimpeling geldt: het aantal indices die je nodig hebt om een element uit de tensor te halen is gelijk aan `n`. Dit heet ook wel *rank*. Zie dit als voorbeeld:"
   ]
  },
  {
   "cell_type": "code",
   "execution_count": 5,
   "metadata": {},
   "outputs": [
    {
     "name": "stdout",
     "output_type": "stream",
     "text": [
      "4 4 4\n"
     ]
    }
   ],
   "source": [
    "scalar = 4 # kan niet op geïndexeerd worden: rank = 0\n",
    "\n",
    "vector = [2,4,6,3,2,56,7]\n",
    "vector[1] # indexeer met 1 index: rank = 1\n",
    "\n",
    "matrix = [[1, 1, 1],\n",
    "          [1, 2, 3],\n",
    "          [1, 4, 9],\n",
    "          [1, 8, 27]]\n",
    "matrix[2][1] # indexeer met 2 indexen: rank = 2\n",
    "print(scalar, vector[1], matrix[2][1])"
   ]
  },
  {
   "cell_type": "markdown",
   "metadata": {},
   "source": [
    "Wanneer rank $\\gt 1$ kan je praten over *Axes* en *Length of Axes*. Met axes praat je over een specifieke dimensie.<br>\n",
    "`matrix[0] <- axis 1`<br>\n",
    "`matrix[1] <- axis 1`<br>\n",
    "`matrix[2] <- axis 1`<br>\n",
    "`matrix[3] <- axis 1`<br>\n",
    "Length of axis 1 = 4 <br>\n",
    "<br>\n",
    "`matrix[0][0] <- axis 2`<br>\n",
    "`matrix[0][1] <- axis 2`<br>\n",
    "`matrix[0][2] <- axis 2`<br>\n",
    "<br>\n",
    "`matrix[1][0] <- axis 2`<br>\n",
    "`matrix[1][1] <- axis 2`<br>\n",
    "`matrix[1][2] <- axis 2`<br>\n",
    "<br>\n",
    "`matrix[2][0] <- axis 2`<br>\n",
    "`matrix[2][1] <- axis 2`<br>\n",
    "`matrix[2][2] <- axis 2`<br>\n",
    "<br>\n",
    "`matrix[3][0] <- axis 2`<br>\n",
    "`matrix[3][1] <- axis 2`<br>\n",
    "`matrix[3][2] <- axis 2`<br>\n",
    "Length of axis 2 = 3"
   ]
  },
  {
   "cell_type": "markdown",
   "metadata": {},
   "source": [
    "De elementen van de laatste axis zijn altijd scalars (of 0d-tensors). Dit kan je generaliseren tot:<br> Axis $k$ bij een nd-tensor bestaat uit ($n-k$)d-tensors."
   ]
  },
  {
   "cell_type": "markdown",
   "metadata": {},
   "source": [
    "Door de lengte van alle axes te lezen wordt de *shape* van de tensor achterhaald. Dit is hoe groot de tensor is. In ons geval is `matrix`:\n",
    "- een 2d-tensor\n",
    "- met rank = 2\n",
    "- axis 1 heeft een lengte van 4\n",
    "- axis 2 heeft een lengte van 3\n",
    "- de shape is (4, 3)"
   ]
  },
  {
   "cell_type": "code",
   "execution_count": 7,
   "metadata": {},
   "outputs": [
    {
     "name": "stdout",
     "output_type": "stream",
     "text": [
      "tensor([[ 0,  0,  0],\n",
      "        [ 1,  2,  3],\n",
      "        [ 1,  4,  9],\n",
      "        [ 1,  8, 27]])\n",
      "<class 'torch.Tensor'>\n",
      "torch.Size([4, 3])\n"
     ]
    }
   ],
   "source": [
    "import torch\n",
    "t = torch.tensor(matrix)\n",
    "print(t)\n",
    "print(type(t))\n",
    "print(t.shape)"
   ]
  }
 ],
 "metadata": {
  "kernelspec": {
   "display_name": "Python 3",
   "language": "python",
   "name": "python3"
  },
  "language_info": {
   "codemirror_mode": {
    "name": "ipython",
    "version": 3
   },
   "file_extension": ".py",
   "mimetype": "text/x-python",
   "name": "python",
   "nbconvert_exporter": "python",
   "pygments_lexer": "ipython3",
   "version": "3.7.1"
  }
 },
 "nbformat": 4,
 "nbformat_minor": 2
}
