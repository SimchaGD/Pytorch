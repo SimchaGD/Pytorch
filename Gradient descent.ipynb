{
 "cells": [
  {
   "cell_type": "code",
   "execution_count": 10,
   "metadata": {},
   "outputs": [],
   "source": [
    "import torch\n",
    "import numpy as np"
   ]
  },
  {
   "cell_type": "code",
   "execution_count": 190,
   "metadata": {},
   "outputs": [],
   "source": [
    "X = np.array([1, 2, 3], dtype = np.float32)\n",
    "Y = np.array([2, 4, 6], dtype = np.float32)"
   ]
  },
  {
   "cell_type": "markdown",
   "metadata": {},
   "source": [
    "Forwardpropagation"
   ]
  },
  {
   "cell_type": "code",
   "execution_count": 203,
   "metadata": {},
   "outputs": [],
   "source": [
    "# our model forward pass\n",
    "class NN():\n",
    "    def __init__(self, X, Y, alpha = 0.01, doBias = True):\n",
    "        self.X = np.array(X)\n",
    "        self.Y = np.array(Y)\n",
    "        self.w = np.random.rand()\n",
    "        if doBias:\n",
    "            self.b = np.random.rand()\n",
    "        else:\n",
    "            self.b = 0\n",
    "        \n",
    "    def forward(self, x):\n",
    "        return x * self.w + self.b\n",
    "\n",
    "    # Loss function\n",
    "    def loss(self, x, y):\n",
    "        y_pred = self.forward(x)\n",
    "        return (y_pred - y)*(y_pred-y)\n",
    "\n",
    "    # Compute gradient\n",
    "    def gradient(self, x, y):\n",
    "        return 2*x*(x*self.w-y)\n",
    "    "
   ]
  },
  {
   "cell_type": "code",
   "execution_count": null,
   "metadata": {},
   "outputs": [],
   "source": [
    "net = NN(X, Y, doBias = False)\n",
    "print(\"Predict (before training):\", 4, net.forward(4))\n",
    "for epoch in range(100):\n",
    "    for x_val, y_val in zip(net.X, net.Y):\n",
    "        grad = net.gradient(x_val, y_val)\n",
    "        net.w = net.w - alpha*grad\n",
    "        print(\"\\tgrad:\", x_val, y_val, grad)\n",
    "        l = net.loss(x_val, y_val)\n",
    "    print(\"progress:\", epoch, \" w =\", net.w, \" loss:\", l)\n",
    "\n",
    "print(\"Predict (after training):\", 4, net.forward(4))"
   ]
  },
  {
   "cell_type": "markdown",
   "metadata": {},
   "source": [
    "Backpropagation"
   ]
  },
  {
   "cell_type": "code",
   "execution_count": 205,
   "metadata": {},
   "outputs": [],
   "source": [
    "import torch\n",
    "from torch.autograd import Variable"
   ]
  },
  {
   "cell_type": "code",
   "execution_count": 211,
   "metadata": {},
   "outputs": [],
   "source": [
    "# our model backwardpass\n",
    "class NN():\n",
    "    def __init__(self, X, Y, alpha = 0.01, doBias = True):\n",
    "        self.X = X\n",
    "        self.Y = Y\n",
    "        self.alpha = alpha\n",
    "        self.w = Variable(torch.rand(1), requires_grad = True)\n",
    "        if doBias:\n",
    "            self.b = Variable(torch.rand(1), requires_grad = True)\n",
    "        else:\n",
    "            self.b = 0\n",
    "        \n",
    "    def forward(self, x):\n",
    "        return x * self.w + self.b\n",
    "\n",
    "    # Loss function\n",
    "    def loss(self, x, y):\n",
    "        y_pred = self.forward(x)\n",
    "        return (y_pred - y)*(y_pred-y)\n",
    "\n",
    "    "
   ]
  },
  {
   "cell_type": "code",
   "execution_count": null,
   "metadata": {},
   "outputs": [],
   "source": [
    "net = NN(X, Y, doBias = True)\n",
    "print(\"Predict (before training):\", 4, net.forward(4).data[0])\n",
    "for epoch in range(10):\n",
    "    for x_val, y_val in zip(net.X, net.Y):\n",
    "        l = net.loss(x_val, y_val)\n",
    "        l.backward()\n",
    "        print(\"\\tgrad:\", x_val, y_val, net.w.grad.data)\n",
    "        net.w.data = w.data - net.alpha * net.w.grad.data\n",
    "        \n",
    "        # Manually zero the gradients after updating weights\n",
    "        #net.w.grad.data.zero_()\n",
    "        \n",
    "    print(\"progress:\", epoch, \" loss:\", l.data[0])\n",
    "\n",
    "print(\"Predict (after training):\", 4, net.forward(4).data[0])"
   ]
  },
  {
   "cell_type": "code",
   "execution_count": null,
   "metadata": {},
   "outputs": [],
   "source": []
  }
 ],
 "metadata": {
  "kernelspec": {
   "display_name": "Python 3",
   "language": "python",
   "name": "python3"
  },
  "language_info": {
   "codemirror_mode": {
    "name": "ipython",
    "version": 3
   },
   "file_extension": ".py",
   "mimetype": "text/x-python",
   "name": "python",
   "nbconvert_exporter": "python",
   "pygments_lexer": "ipython3",
   "version": "3.7.1"
  }
 },
 "nbformat": 4,
 "nbformat_minor": 2
}
